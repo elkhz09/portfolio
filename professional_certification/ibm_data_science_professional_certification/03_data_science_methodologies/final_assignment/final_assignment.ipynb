{
 "cells": [
  {
   "cell_type": "markdown",
   "metadata": {},
   "source": [
    "# Final Assignment"
   ]
  },
  {
   "cell_type": "markdown",
   "metadata": {},
   "source": [
    "**Task 1:**\n",
    "Using the topic that you selected, complete the Business Understanding stage by coming up with a problem that you would like to solve and phrasing it in the form of a question that you will use data to answer. (3 points)\n",
    "\n",
    "You are required to:\n",
    "\n",
    "Describe the problem, related to the topic you selected.\n",
    "\n",
    "Phrase the problem as a question to be answered using data.\n",
    "\n",
    "For example, using the food recipes use case discussed in the labs, the question that we defined was, \"Can we automatically determine the cuisine of a given dish based on its ingredients?\".\n",
    "\n",
    "**Task 2:**\n",
    "Briefly explain how you would complete each of the following stages for the problem that you described in the Business Understanding stage, so that you are ultimately able to answer the question that you came up with. (5 points):\n",
    "\n",
    "- Analytic Approach\n",
    "- Data Requirements\n",
    "- Data Collection\n",
    "- Data Understanding and Preparation\n",
    "- Modeling and Evaluation"
   ]
  },
  {
   "cell_type": "markdown",
   "metadata": {},
   "source": [
    "# Topic Chosen: Credit Cards"
   ]
  },
  {
   "cell_type": "markdown",
   "metadata": {},
   "source": [
    "**Problem Description:**\n",
    "\n",
    "Credit card companies face significant losses due to fraudulent transactions. Identifying fraudulent activities early can prevent financial loss and protect customers. However, distinguishing between legitimate and fraudulent transactions is challenging due to the complexity of transaction patterns and the volume of data.\n",
    "\n",
    "**Problem as a Question:**\n",
    "\n",
    "\"Can we predict whether a credit card transaction is fraudulent based on transaction details?\""
   ]
  },
  {
   "cell_type": "markdown",
   "metadata": {},
   "source": [
    "**Analytic Approach**\n",
    "\n",
    "To answer this question, we would use a supervised learning approach. Specifically, we would build a classification model to predict whether a transaction is fraudulent (yes) or legitimate (no) based on historical transaction data. The target variable would be the fraud status (fraudulent or legitimate), and the features would include transaction amount, location, time, merchant category, and other details.\n",
    "\n"
   ]
  },
  {
   "cell_type": "markdown",
   "metadata": {},
   "source": [
    "**Data Requirements**\n",
    "\n",
    "To address this problem, the following data would be required:\n",
    "\n",
    "Transaction data:\n",
    "- Transaction ID\n",
    "- Timestamp\n",
    "- Amount\n",
    "- Location\n",
    "- Merchant category\n",
    "- Device type\n",
    "\n",
    "Fraud labels:\n",
    "- A binary variable (fraudulent or legitimate) indicating whether a transaction was flagged as fraud.\n",
    "\n",
    "User information:\n",
    "- Account details (e.g., age, credit limit).\n",
    "- Historical transaction patterns for individual users.\n",
    "\n",
    "Data should also include diverse examples of both fraudulent and legitimate transactions."
   ]
  },
  {
   "cell_type": "markdown",
   "metadata": {},
   "source": [
    "**Data Collection**\n",
    "\n",
    "Data can be collected from:\n",
    "\n",
    "1. Company Databases: Historical transaction data with fraud labels maintained by the credit card company.\n",
    "2. External Sources: Public datasets like the Kaggle Credit Card Fraud Detection Dataset, which contains anonymized transaction data for modeling.\n",
    "3. APIs: Some platforms provide access to transaction datasets for research purposes."
   ]
  },
  {
   "cell_type": "markdown",
   "metadata": {},
   "source": [
    "**Data Understanding and Preparation**\n",
    "\n",
    "1. Data Understanding:\n",
    "\n",
    "Explore the dataset to understand the distribution of fraudulent vs. legitimate transactions.\n",
    "Check for class imbalance (e.g., fraud cases may make up only 1% of the data).\n",
    "Analyze features such as transaction amount, time, and merchant category for patterns.\n",
    "\n",
    "2. Data Preparation:\n",
    "\n",
    "Handle missing or inconsistent values (e.g., null merchant IDs).\n",
    "Normalize numerical data like transaction amounts.\n",
    "Encode categorical variables (e.g., one-hot encoding for merchant categories).\n",
    "Address class imbalance using techniques like oversampling (e.g., SMOTE) or undersampling."
   ]
  },
  {
   "cell_type": "markdown",
   "metadata": {},
   "source": [
    "**Modeling and Evaluation**\n",
    "\n",
    "1. Modeling:\n",
    "\n",
    "Train classification models such as:\n",
    "- Logistic Regression\n",
    "- Random Forest\n",
    "- Use features such as transaction amount, time, merchant category, and user location.\n",
    "- Split the data into training and testing sets to evaluate model performance.\n",
    "\n",
    "2. Evaluation:\n",
    "\n",
    "Evaluate the model using metrics like:\n",
    "- Precision: To minimize false positives (flagging legitimate transactions as fraud).\n",
    "- Recall: To minimize false negatives (missing fraudulent transactions).\n",
    "- F1-score: Balancing precision and recall.\n",
    "- ROC-AUC: To assess overall model performance.\n",
    "- Perform cross-validation to ensure the model generalizes well to unseen data."
   ]
  }
 ],
 "metadata": {
  "language_info": {
   "name": "python"
  }
 },
 "nbformat": 4,
 "nbformat_minor": 2
}
